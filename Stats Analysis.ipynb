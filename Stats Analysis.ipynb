{
 "cells": [
  {
   "cell_type": "code",
   "execution_count": 17,
   "metadata": {
    "collapsed": false
   },
   "outputs": [
    {
     "name": "stdout",
     "output_type": "stream",
     "text": [
      "Raw data is  [ 98, 98.6, 98.4, 98.8, 200, 120, 98.5 ]\n",
      "Standard Deviation is  35.07\n",
      "Mean is  116.04\n",
      "Median is  98.6\n",
      "Median Abs Deviation is 0.20000000000000284\n",
      "The outliers of the data set are  [ 4, 5, 6 ]\n",
      "The data set without outliers is  [ 98, 98.6, 98.4, 98.8 ]\n"
     ]
    },
    {
     "data": {
      "text/plain": [
       "undefined"
      ]
     },
     "execution_count": 17,
     "metadata": {},
     "output_type": "execute_result"
    }
   ],
   "source": [
    "const stats = require(\"stats-analysis\");\n",
    "\n",
    "var arr = [98, 98.6, 98.4, 98.8, 200, 120, 98.5];\n",
    "\n",
    "//standard deviation \n",
    "var my_stddev = stats.stdev(arr).toFixed(2);\n",
    " \n",
    "//mean \n",
    "var my_mean = stats.mean(arr).toFixed(2);\n",
    " \n",
    "//median \n",
    "var my_median = stats.median(arr);\n",
    " \n",
    "//median absolute deviation \n",
    "var my_mad = stats.MAD(arr);\n",
    " \n",
    "// Outlier detection. Returns indexes of outliers \n",
    "var my_outliers = stats.indexOfOutliers(arr);\n",
    " \n",
    "// Remove the outliers \n",
    "var my_without_outliers = stats.filterOutliers(arr);\n",
    "\n",
    "//display our stats\n",
    "console.log(\"Raw data is \", arr);\n",
    "console.log(\"Standard Deviation is \", my_stddev);\n",
    "console.log(\"Mean is \", my_mean);\n",
    "console.log(\"Median is \", my_median);\n",
    "console.log(\"Median Abs Deviation is \" + my_mad);\n",
    "console.log(\"The outliers of the data set are \", my_outliers);\n",
    "console.log(\"The data set without outliers is \", my_without_outliers);\n",
    "\n"
   ]
  }
 ],
 "metadata": {
  "kernelspec": {
   "display_name": "Javascript (Node.js)",
   "language": "javascript",
   "name": "javascript"
  },
  "language_info": {
   "file_extension": ".js",
   "mimetype": "application/javascript",
   "name": "javascript",
   "version": "4.2.4"
  }
 },
 "nbformat": 4,
 "nbformat_minor": 0
}
